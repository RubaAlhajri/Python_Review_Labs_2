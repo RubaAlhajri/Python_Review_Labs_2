{
 "cells": [
  {
   "cell_type": "markdown",
   "id": "2d4a0e4d",
   "metadata": {},
   "source": [
    "## Lab1-Lists\n",
    "Given the following list : [5, 4, 17, 19, 30, 2, 7, 10, 45]\n",
    "- Q1: Write a Python program to sum all the items in the list.\n",
    "- Q2: Write a Python program to get the largest number from the list.\n",
    "- Q3: Use list comprehension, create a new list from the above list containing only even numbers.\n",
    "- Q4: Use list slicing to get a new list from the previous list starting from the start to the 5th element in the list."
   ]
  },
  {
   "cell_type": "code",
   "execution_count": 54,
   "id": "88e0fe9c",
   "metadata": {},
   "outputs": [
    {
     "name": "stdout",
     "output_type": "stream",
     "text": [
      "139\n"
     ]
    }
   ],
   "source": [
    "# A1:\n",
    "\n",
    "def sumL (list) :\n",
    "    total = 0\n",
    "    for  i in list :\n",
    "     total += i\n",
    "    print (total)\n",
    "    \n",
    "list = [5, 4, 17, 19, 30, 2, 7, 10, 45]\n",
    "sumL(list)\n",
    "\n",
    "\n"
   ]
  },
  {
   "cell_type": "code",
   "execution_count": 56,
   "id": "4dcd3f54-bacf-4a2b-acca-10d4866f7889",
   "metadata": {},
   "outputs": [
    {
     "name": "stdout",
     "output_type": "stream",
     "text": [
      "45\n"
     ]
    }
   ],
   "source": [
    "# A2:\n",
    "def Maximum (list) :\n",
    "    max_value = None\n",
    "    for n in list:\n",
    "        if max_value is None or n > max_value:\n",
    "            max_value = n\n",
    "\n",
    "    return max_value \n",
    "        \n",
    "MaxNum = Maximum(list)\n",
    "print(MaxNum)\n"
   ]
  },
  {
   "cell_type": "code",
   "execution_count": 16,
   "id": "e373bcf8-3c31-49cb-8019-dcb3b7dc24e6",
   "metadata": {},
   "outputs": [
    {
     "name": "stdout",
     "output_type": "stream",
     "text": [
      "[4, 30, 2, 10]\n"
     ]
    }
   ],
   "source": [
    "# A3:\n",
    "\n",
    "Sum_2 = [i for i in list if i % 2 == 0]\n",
    "print(Sum_2)\n"
   ]
  },
  {
   "cell_type": "code",
   "execution_count": 30,
   "id": "5b14ce22-b19e-45fc-afe6-c9198e976a3b",
   "metadata": {},
   "outputs": [
    {
     "name": "stdout",
     "output_type": "stream",
     "text": [
      "[2, 7, 10, 45]\n"
     ]
    }
   ],
   "source": [
    "# A4:\n",
    "list55 = [i for i in list[5:]]\n",
    "print (list55)"
   ]
  },
  {
   "cell_type": "markdown",
   "id": "4df61e4c",
   "metadata": {},
   "source": [
    "## Lab2-Dictionary\n",
    "\n",
    "Build a phone book program that receives the phone number, and returns the name of the owner. \n",
    "You can follow the table below:\n",
    "\n",
    "| Name    | Number      |\n",
    "| -------- | ---------- |\n",
    "| Amal     | 1111111111 |\n",
    "| Mohammed | 2222222222 |\n",
    "| Khadijah | 3333333333 |\n",
    "| Abdullah  | 4444444444 |\n",
    "| Rawan    | 5555555555 |\n",
    "| Faisal   | 6666666666 |\n",
    "| Layla    | 7777777777 |\n",
    "\n",
    "\n",
    "- If the number exists, print the owner. Otherwise, print \"Sorry, the number is not found\".\n",
    "- If the number is less or more than 10 numbers, print \"This is invalid number\".\n",
    "- If the number contains letters or symbols, print \"This is invalid number\"."
   ]
  },
  {
   "cell_type": "code",
   "execution_count": 43,
   "id": "7d53c06c",
   "metadata": {},
   "outputs": [],
   "source": [
    "phone_book={\n",
    "    1111111111: \"Amal\",\n",
    "    2222222222: \"Mohammed\",\n",
    "    3333333333:\"Khadijah\",\n",
    "    4444444444: \"Abdullah\",\n",
    "    5555555555: \"Rawan\",\n",
    "    6666666666: \"Faisal\",\n",
    "    7777777777: \"Layla\"\n",
    "}\n"
   ]
  },
  {
   "cell_type": "code",
   "execution_count": null,
   "id": "ffdffaec",
   "metadata": {},
   "outputs": [],
   "source": [
    "while True:\n",
    "    try:\n",
    "        phoneNum = int(input(\"Enter phone No: \"))\n",
    "        if len(str(phoneNum)) != 10 :\n",
    "            print(\"This is invalid number is short\")\n",
    "        elif phone_book.get(phoneNum) is None:\n",
    "            print (\"Sorry, the number is not found\")\n",
    "        else: \n",
    "            print (phone_book.get(phoneNum))\n",
    "    except ValueError:\n",
    "        print(\"this is invalid number\")"
   ]
  },
  {
   "cell_type": "code",
   "execution_count": 49,
   "id": "93b05ba5",
   "metadata": {},
   "outputs": [
    {
     "name": "stdout",
     "output_type": "stream",
     "text": [
      "None\n"
     ]
    }
   ],
   "source": []
  },
  {
   "cell_type": "code",
   "execution_count": null,
   "id": "0644ffb6-26a2-4ca4-bf73-831b263b7ccb",
   "metadata": {},
   "outputs": [],
   "source": []
  }
 ],
 "metadata": {
  "kernelspec": {
   "display_name": "Python 3 (ipykernel)",
   "language": "python",
   "name": "python3"
  },
  "language_info": {
   "codemirror_mode": {
    "name": "ipython",
    "version": 3
   },
   "file_extension": ".py",
   "mimetype": "text/x-python",
   "name": "python",
   "nbconvert_exporter": "python",
   "pygments_lexer": "ipython3",
   "version": "3.11.7"
  }
 },
 "nbformat": 4,
 "nbformat_minor": 5
}
