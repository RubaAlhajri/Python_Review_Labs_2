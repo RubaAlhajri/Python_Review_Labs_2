{
 "cells": [
  {
   "cell_type": "markdown",
   "id": "d0065193-a6d4-46b3-989d-40f0a0686520",
   "metadata": {},
   "source": [
    "# Python_Review_P#4_Labs"
   ]
  },
  {
   "cell_type": "markdown",
   "id": "4d9987eb-3786-42ed-ab44-3c56d064a9a5",
   "metadata": {},
   "source": [
    "##  Try and Except\n",
    " Write a program that do the following :\n",
    "1. Ask the user to enter his name.\n",
    "2. Ask the user to enter his age.\n",
    "3. If his age is between 0 and 6, then print \"Kid\"\n",
    "4. Else if his age is under 0, then print \"Wrong age value, you can not enter value 0 or less.\"\n",
    "5. Else if the age is greater than 6, do the following :\n",
    "   - An empty variable called total_cost with initial value 0.\n",
    "   - Ask him to enter the number of items that he wants to buy.\n",
    "   - for each item, do the following :\n",
    "        - Ask him to enter the item name.\n",
    "        - Ask him to enter the item price.\n",
    "        - Ask him to enter the item quantity.\n",
    "        - You need to calculate the item total cost by multiplying the quantity by the\n",
    "        - price and name it as item_cost.\n",
    "        - Then, you need to update the total_cost variable by adding the value of item_cost.\n",
    "        - Print the item_cost and the total_cost.\n",
    " - Now, if the total_cost is greater than 200, make a discount by 20% for this\n",
    " special customer!!\n",
    "- Do not forget to handle any unexpected inputs from the users (Just cast the input values and catch the errors!!).\n",
    "- Finally, ask the user if he want to repeat the same process from step 1 until 6 or not, Use the loops, but one of them ;)\n",
    "     - Note : The ask is after catching the errors"
   ]
  },
  {
   "cell_type": "code",
   "execution_count": 49,
   "id": "65f7d85b-827c-4124-a21f-0ddd1d68afb1",
   "metadata": {},
   "outputs": [
    {
     "name": "stdin",
     "output_type": "stream",
     "text": [
      "Enter your name:  sara\n",
      "Enter your age:  2\n"
     ]
    },
    {
     "name": "stdout",
     "output_type": "stream",
     "text": [
      "Kid\n"
     ]
    },
    {
     "name": "stdin",
     "output_type": "stream",
     "text": [
      "Do you want to repeat the process? (yes/no):  yes\n",
      "Enter your name:  Ruba\n",
      "Enter your age:  33\n",
      "Enter the number of items you want to buy:  2nd\n"
     ]
    },
    {
     "name": "stdout",
     "output_type": "stream",
     "text": [
      "Invalid input. Please enter numeric values for age, price, and quantity.\n"
     ]
    },
    {
     "name": "stdin",
     "output_type": "stream",
     "text": [
      "Enter your name:  Ruba\n",
      "Enter your age:  33\n",
      "Enter the number of items you want to buy:  2\n"
     ]
    },
    {
     "name": "stdout",
     "output_type": "stream",
     "text": [
      "the item number: 1\n"
     ]
    },
    {
     "name": "stdin",
     "output_type": "stream",
     "text": [
      "Enter the name of item: milk\n",
      "Enter the price of  10\n",
      "Enter the quantity of  2\n"
     ]
    },
    {
     "name": "stdout",
     "output_type": "stream",
     "text": [
      "the items cost is  20.0 the total is : 20.0\n",
      "Updated total cost: 20.0\n",
      "the item number: 2\n"
     ]
    },
    {
     "name": "stdin",
     "output_type": "stream",
     "text": [
      "Enter the name of item: coke\n",
      "Enter the price of  4\n",
      "Enter the quantity of  4\n"
     ]
    },
    {
     "name": "stdout",
     "output_type": "stream",
     "text": [
      "the items cost is  16.0 the total is : 36.0\n",
      "Updated total cost: 36.0\n"
     ]
    },
    {
     "name": "stdin",
     "output_type": "stream",
     "text": [
      "Do you want to repeat the process? (yes/no):  yes\n",
      "Enter your name:  jana\n",
      "Enter your age:  22\n",
      "Enter the number of items you want to buy:  3\n"
     ]
    },
    {
     "name": "stdout",
     "output_type": "stream",
     "text": [
      "the item number: 1\n"
     ]
    },
    {
     "name": "stdin",
     "output_type": "stream",
     "text": [
      "Enter the name of item: milk\n",
      "Enter the price of  9\n",
      "Enter the quantity of  10\n"
     ]
    },
    {
     "name": "stdout",
     "output_type": "stream",
     "text": [
      "the items cost is  90.0 the total is : 90.0\n",
      "Updated total cost: 90.0\n",
      "the item number: 2\n"
     ]
    },
    {
     "name": "stdin",
     "output_type": "stream",
     "text": [
      "Enter the name of item: Bread\n",
      "Enter the price of  1\n",
      "Enter the quantity of  100\n"
     ]
    },
    {
     "name": "stdout",
     "output_type": "stream",
     "text": [
      "the items cost is  100.0 the total is : 190.0\n",
      "Updated total cost: 190.0\n",
      "the item number: 3\n"
     ]
    },
    {
     "name": "stdin",
     "output_type": "stream",
     "text": [
      "Enter the name of item: coke\n",
      "Enter the price of  4\n",
      "Enter the quantity of  10\n"
     ]
    },
    {
     "name": "stdout",
     "output_type": "stream",
     "text": [
      "the items cost is  40.0 the total is : 230.0\n",
      "Updated total cost: 230.0\n",
      "you are spical customer so you have Discount 20%, the total cost after the discount is : 184.0\n"
     ]
    },
    {
     "name": "stdin",
     "output_type": "stream",
     "text": [
      "Do you want to repeat the process? (yes/no):  no\n"
     ]
    }
   ],
   "source": [
    "\n",
    "\n",
    "\n",
    "while True:\n",
    "    try:\n",
    "        total_cost = 0\n",
    "        UserName = input(\"Enter your name: \")\n",
    "\n",
    "        age = int(input(\"Enter your age: \"))\n",
    "\n",
    "        if age >= 0 and age <= 6:\n",
    "            print(\"Kid\")\n",
    "        elif age < 0:\n",
    "            print(\"Wrong age value, you cannot enter a value 0 or less.\")\n",
    "        else:\n",
    "           \n",
    "            num_items = int(input(\"Enter the number of items you want to buy: \"))\n",
    "\n",
    "            \n",
    "            for i in range(num_items):\n",
    "                print (\"the item number:\" , i+1)\n",
    "                item_n = input(\"Enter the name of item:\" )\n",
    "                item_p = float(input(\"Enter the price of \"))\n",
    "                item_q = int(input(\"Enter the quantity of \"))\n",
    "\n",
    "               \n",
    "                item_cost = item_p * item_q\n",
    "\n",
    "                \n",
    "                total_cost += item_cost\n",
    "\n",
    "                print(\"the items cost is \" , item_cost , \"the total is :\" , total_cost)\n",
    "                print(\"Updated total cost:\" , total_cost)\n",
    "\n",
    "            \n",
    "            if total_cost > 200:\n",
    "                Discount= total_cost * 0.2\n",
    "                total_cost =   total_cost - Discount\n",
    "                print(\"you are spical customer so you have Discount 20%, the total cost after the discount is :\" ,total_cost)\n",
    "\n",
    "        \n",
    "        repeat = input(\"Do you want to repeat the process? (yes/no): \")\n",
    "        if repeat.lower() != \"yes\":\n",
    "            break\n",
    "\n",
    "    except ValueError:\n",
    "        print(\"Invalid input. Please enter numeric values for age, price, and quantity.\")\n"
   ]
  },
  {
   "cell_type": "code",
   "execution_count": null,
   "id": "48948e31-6585-444c-a2d5-5c966f954325",
   "metadata": {},
   "outputs": [],
   "source": []
  },
  {
   "cell_type": "code",
   "execution_count": null,
   "id": "a9f8d94f-00e7-455e-9d05-3f40aec5a05a",
   "metadata": {},
   "outputs": [],
   "source": []
  }
 ],
 "metadata": {
  "kernelspec": {
   "display_name": "Python 3 (ipykernel)",
   "language": "python",
   "name": "python3"
  },
  "language_info": {
   "codemirror_mode": {
    "name": "ipython",
    "version": 3
   },
   "file_extension": ".py",
   "mimetype": "text/x-python",
   "name": "python",
   "nbconvert_exporter": "python",
   "pygments_lexer": "ipython3",
   "version": "3.11.7"
  }
 },
 "nbformat": 4,
 "nbformat_minor": 5
}
